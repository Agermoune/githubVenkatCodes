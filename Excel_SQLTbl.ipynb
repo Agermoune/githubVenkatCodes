{
 "cells": [
  {
   "cell_type": "code",
   "execution_count": 1,
   "metadata": {},
   "outputs": [],
   "source": [
    "import pandas as pd\n",
    "import urllib\n",
    "from sqlalchemy import create_engine\n",
    "df = pd.read_excel(r'C:\\Users\\csltthotakurav\\Desktop\\delete.xlsx')\n",
    "\n",
    "conn_str = (\n",
    "        r'Driver={SQL Server};'\n",
    "        r'Server=dsvr;'\n",
    "        r'Database=CreditRisk;'\n",
    "        r'Trusted_Connection=yes;'\n",
    "    )\n",
    "       \n",
    "quoted_conn_str = urllib.parse.quote_plus(conn_str)\n",
    "engine = create_engine('mssql+pyodbc:///?odbc_connect={}'.format(quoted_conn_str))\n",
    "df.to_sql('ven_df_data', con=engine)\n",
    "\n",
    "Data=pd.read_sql('select * from   [CreditRisk].[PFCUHQ\\CSLTThotakuraV].[ven_df_data]', con=engine)"
   ]
  },
  {
   "cell_type": "code",
   "execution_count": null,
   "metadata": {},
   "outputs": [],
   "source": []
  }
 ],
 "metadata": {
  "kernelspec": {
   "display_name": "Python 3",
   "language": "python",
   "name": "python3"
  },
  "language_info": {
   "codemirror_mode": {
    "name": "ipython",
    "version": 3
   },
   "file_extension": ".py",
   "mimetype": "text/x-python",
   "name": "python",
   "nbconvert_exporter": "python",
   "pygments_lexer": "ipython3",
   "version": "3.7.4"
  }
 },
 "nbformat": 4,
 "nbformat_minor": 2
}
